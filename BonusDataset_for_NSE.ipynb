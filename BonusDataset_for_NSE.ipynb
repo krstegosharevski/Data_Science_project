{
  "nbformat": 4,
  "nbformat_minor": 0,
  "metadata": {
    "colab": {
      "provenance": []
    },
    "kernelspec": {
      "name": "python3",
      "display_name": "Python 3"
    },
    "language_info": {
      "name": "python"
    }
  },
  "cells": [
    {
      "cell_type": "code",
      "source": [
        "from google.colab import drive\n",
        "drive.mount('/content/drive')"
      ],
      "metadata": {
        "colab": {
          "base_uri": "https://localhost:8080/"
        },
        "id": "EsS-yXVileSt",
        "outputId": "9ddc79c0-8a2f-4e8c-87e4-0e6839f19072"
      },
      "execution_count": 1,
      "outputs": [
        {
          "output_type": "stream",
          "name": "stdout",
          "text": [
            "Mounted at /content/drive\n"
          ]
        }
      ]
    },
    {
      "cell_type": "code",
      "source": [
        "import pandas as pd\n",
        "import matplotlib.pyplot as plt\n",
        "import numpy as np\n",
        "from sklearn.preprocessing import MinMaxScaler\n",
        "from tensorflow.keras.models import Sequential\n",
        "from tensorflow.keras.layers import Dense\n",
        "from tensorflow.keras.layers import LSTM\n",
        "import math\n",
        "from sklearn.metrics import mean_squared_error"
      ],
      "metadata": {
        "id": "TmyjH4Cvlq1Z"
      },
      "execution_count": 2,
      "outputs": []
    },
    {
      "cell_type": "code",
      "source": [
        "df = pd.read_csv('/content/drive/MyDrive/datasets/NSE-TATAGLOBAL.csv')\n",
        "df.head()"
      ],
      "metadata": {
        "colab": {
          "base_uri": "https://localhost:8080/",
          "height": 206
        },
        "id": "iTg988AHlwe0",
        "outputId": "b01f3c17-3b8b-409c-9c51-9cda97b1d30a"
      },
      "execution_count": 3,
      "outputs": [
        {
          "output_type": "execute_result",
          "data": {
            "text/plain": [
              "         Date    Open    High     Low    Last   Close  Total Trade Quantity  \\\n",
              "0  2018-09-28  234.05  235.95  230.20  233.50  233.75               3069914   \n",
              "1  2018-09-27  234.55  236.80  231.10  233.80  233.25               5082859   \n",
              "2  2018-09-26  240.00  240.00  232.50  235.00  234.25               2240909   \n",
              "3  2018-09-25  233.30  236.75  232.00  236.25  236.10               2349368   \n",
              "4  2018-09-24  233.55  239.20  230.75  234.00  233.30               3423509   \n",
              "\n",
              "   Turnover (Lacs)  \n",
              "0          7162.35  \n",
              "1         11859.95  \n",
              "2          5248.60  \n",
              "3          5503.90  \n",
              "4          7999.55  "
            ],
            "text/html": [
              "\n",
              "  <div id=\"df-5d8d589a-6a0b-46d0-ac19-9d219c77f209\" class=\"colab-df-container\">\n",
              "    <div>\n",
              "<style scoped>\n",
              "    .dataframe tbody tr th:only-of-type {\n",
              "        vertical-align: middle;\n",
              "    }\n",
              "\n",
              "    .dataframe tbody tr th {\n",
              "        vertical-align: top;\n",
              "    }\n",
              "\n",
              "    .dataframe thead th {\n",
              "        text-align: right;\n",
              "    }\n",
              "</style>\n",
              "<table border=\"1\" class=\"dataframe\">\n",
              "  <thead>\n",
              "    <tr style=\"text-align: right;\">\n",
              "      <th></th>\n",
              "      <th>Date</th>\n",
              "      <th>Open</th>\n",
              "      <th>High</th>\n",
              "      <th>Low</th>\n",
              "      <th>Last</th>\n",
              "      <th>Close</th>\n",
              "      <th>Total Trade Quantity</th>\n",
              "      <th>Turnover (Lacs)</th>\n",
              "    </tr>\n",
              "  </thead>\n",
              "  <tbody>\n",
              "    <tr>\n",
              "      <th>0</th>\n",
              "      <td>2018-09-28</td>\n",
              "      <td>234.05</td>\n",
              "      <td>235.95</td>\n",
              "      <td>230.20</td>\n",
              "      <td>233.50</td>\n",
              "      <td>233.75</td>\n",
              "      <td>3069914</td>\n",
              "      <td>7162.35</td>\n",
              "    </tr>\n",
              "    <tr>\n",
              "      <th>1</th>\n",
              "      <td>2018-09-27</td>\n",
              "      <td>234.55</td>\n",
              "      <td>236.80</td>\n",
              "      <td>231.10</td>\n",
              "      <td>233.80</td>\n",
              "      <td>233.25</td>\n",
              "      <td>5082859</td>\n",
              "      <td>11859.95</td>\n",
              "    </tr>\n",
              "    <tr>\n",
              "      <th>2</th>\n",
              "      <td>2018-09-26</td>\n",
              "      <td>240.00</td>\n",
              "      <td>240.00</td>\n",
              "      <td>232.50</td>\n",
              "      <td>235.00</td>\n",
              "      <td>234.25</td>\n",
              "      <td>2240909</td>\n",
              "      <td>5248.60</td>\n",
              "    </tr>\n",
              "    <tr>\n",
              "      <th>3</th>\n",
              "      <td>2018-09-25</td>\n",
              "      <td>233.30</td>\n",
              "      <td>236.75</td>\n",
              "      <td>232.00</td>\n",
              "      <td>236.25</td>\n",
              "      <td>236.10</td>\n",
              "      <td>2349368</td>\n",
              "      <td>5503.90</td>\n",
              "    </tr>\n",
              "    <tr>\n",
              "      <th>4</th>\n",
              "      <td>2018-09-24</td>\n",
              "      <td>233.55</td>\n",
              "      <td>239.20</td>\n",
              "      <td>230.75</td>\n",
              "      <td>234.00</td>\n",
              "      <td>233.30</td>\n",
              "      <td>3423509</td>\n",
              "      <td>7999.55</td>\n",
              "    </tr>\n",
              "  </tbody>\n",
              "</table>\n",
              "</div>\n",
              "    <div class=\"colab-df-buttons\">\n",
              "\n",
              "  <div class=\"colab-df-container\">\n",
              "    <button class=\"colab-df-convert\" onclick=\"convertToInteractive('df-5d8d589a-6a0b-46d0-ac19-9d219c77f209')\"\n",
              "            title=\"Convert this dataframe to an interactive table.\"\n",
              "            style=\"display:none;\">\n",
              "\n",
              "  <svg xmlns=\"http://www.w3.org/2000/svg\" height=\"24px\" viewBox=\"0 -960 960 960\">\n",
              "    <path d=\"M120-120v-720h720v720H120Zm60-500h600v-160H180v160Zm220 220h160v-160H400v160Zm0 220h160v-160H400v160ZM180-400h160v-160H180v160Zm440 0h160v-160H620v160ZM180-180h160v-160H180v160Zm440 0h160v-160H620v160Z\"/>\n",
              "  </svg>\n",
              "    </button>\n",
              "\n",
              "  <style>\n",
              "    .colab-df-container {\n",
              "      display:flex;\n",
              "      gap: 12px;\n",
              "    }\n",
              "\n",
              "    .colab-df-convert {\n",
              "      background-color: #E8F0FE;\n",
              "      border: none;\n",
              "      border-radius: 50%;\n",
              "      cursor: pointer;\n",
              "      display: none;\n",
              "      fill: #1967D2;\n",
              "      height: 32px;\n",
              "      padding: 0 0 0 0;\n",
              "      width: 32px;\n",
              "    }\n",
              "\n",
              "    .colab-df-convert:hover {\n",
              "      background-color: #E2EBFA;\n",
              "      box-shadow: 0px 1px 2px rgba(60, 64, 67, 0.3), 0px 1px 3px 1px rgba(60, 64, 67, 0.15);\n",
              "      fill: #174EA6;\n",
              "    }\n",
              "\n",
              "    .colab-df-buttons div {\n",
              "      margin-bottom: 4px;\n",
              "    }\n",
              "\n",
              "    [theme=dark] .colab-df-convert {\n",
              "      background-color: #3B4455;\n",
              "      fill: #D2E3FC;\n",
              "    }\n",
              "\n",
              "    [theme=dark] .colab-df-convert:hover {\n",
              "      background-color: #434B5C;\n",
              "      box-shadow: 0px 1px 3px 1px rgba(0, 0, 0, 0.15);\n",
              "      filter: drop-shadow(0px 1px 2px rgba(0, 0, 0, 0.3));\n",
              "      fill: #FFFFFF;\n",
              "    }\n",
              "  </style>\n",
              "\n",
              "    <script>\n",
              "      const buttonEl =\n",
              "        document.querySelector('#df-5d8d589a-6a0b-46d0-ac19-9d219c77f209 button.colab-df-convert');\n",
              "      buttonEl.style.display =\n",
              "        google.colab.kernel.accessAllowed ? 'block' : 'none';\n",
              "\n",
              "      async function convertToInteractive(key) {\n",
              "        const element = document.querySelector('#df-5d8d589a-6a0b-46d0-ac19-9d219c77f209');\n",
              "        const dataTable =\n",
              "          await google.colab.kernel.invokeFunction('convertToInteractive',\n",
              "                                                    [key], {});\n",
              "        if (!dataTable) return;\n",
              "\n",
              "        const docLinkHtml = 'Like what you see? Visit the ' +\n",
              "          '<a target=\"_blank\" href=https://colab.research.google.com/notebooks/data_table.ipynb>data table notebook</a>'\n",
              "          + ' to learn more about interactive tables.';\n",
              "        element.innerHTML = '';\n",
              "        dataTable['output_type'] = 'display_data';\n",
              "        await google.colab.output.renderOutput(dataTable, element);\n",
              "        const docLink = document.createElement('div');\n",
              "        docLink.innerHTML = docLinkHtml;\n",
              "        element.appendChild(docLink);\n",
              "      }\n",
              "    </script>\n",
              "  </div>\n",
              "\n",
              "\n",
              "<div id=\"df-c373f963-3319-4846-a610-5479aef4d216\">\n",
              "  <button class=\"colab-df-quickchart\" onclick=\"quickchart('df-c373f963-3319-4846-a610-5479aef4d216')\"\n",
              "            title=\"Suggest charts.\"\n",
              "            style=\"display:none;\">\n",
              "\n",
              "<svg xmlns=\"http://www.w3.org/2000/svg\" height=\"24px\"viewBox=\"0 0 24 24\"\n",
              "     width=\"24px\">\n",
              "    <g>\n",
              "        <path d=\"M19 3H5c-1.1 0-2 .9-2 2v14c0 1.1.9 2 2 2h14c1.1 0 2-.9 2-2V5c0-1.1-.9-2-2-2zM9 17H7v-7h2v7zm4 0h-2V7h2v10zm4 0h-2v-4h2v4z\"/>\n",
              "    </g>\n",
              "</svg>\n",
              "  </button>\n",
              "\n",
              "<style>\n",
              "  .colab-df-quickchart {\n",
              "    background-color: #E8F0FE;\n",
              "    border: none;\n",
              "    border-radius: 50%;\n",
              "    cursor: pointer;\n",
              "    display: none;\n",
              "    fill: #1967D2;\n",
              "    height: 32px;\n",
              "    padding: 0 0 0 0;\n",
              "    width: 32px;\n",
              "  }\n",
              "\n",
              "  .colab-df-quickchart:hover {\n",
              "    background-color: #E2EBFA;\n",
              "    box-shadow: 0px 1px 2px rgba(60, 64, 67, 0.3), 0px 1px 3px 1px rgba(60, 64, 67, 0.15);\n",
              "    fill: #174EA6;\n",
              "  }\n",
              "\n",
              "  [theme=dark] .colab-df-quickchart {\n",
              "    background-color: #3B4455;\n",
              "    fill: #D2E3FC;\n",
              "  }\n",
              "\n",
              "  [theme=dark] .colab-df-quickchart:hover {\n",
              "    background-color: #434B5C;\n",
              "    box-shadow: 0px 1px 3px 1px rgba(0, 0, 0, 0.15);\n",
              "    filter: drop-shadow(0px 1px 2px rgba(0, 0, 0, 0.3));\n",
              "    fill: #FFFFFF;\n",
              "  }\n",
              "</style>\n",
              "\n",
              "  <script>\n",
              "    async function quickchart(key) {\n",
              "      const charts = await google.colab.kernel.invokeFunction(\n",
              "          'suggestCharts', [key], {});\n",
              "    }\n",
              "    (() => {\n",
              "      let quickchartButtonEl =\n",
              "        document.querySelector('#df-c373f963-3319-4846-a610-5479aef4d216 button');\n",
              "      quickchartButtonEl.style.display =\n",
              "        google.colab.kernel.accessAllowed ? 'block' : 'none';\n",
              "    })();\n",
              "  </script>\n",
              "</div>\n",
              "    </div>\n",
              "  </div>\n"
            ]
          },
          "metadata": {},
          "execution_count": 3
        }
      ]
    },
    {
      "cell_type": "code",
      "source": [
        "df.isnull().sum()"
      ],
      "metadata": {
        "colab": {
          "base_uri": "https://localhost:8080/"
        },
        "id": "mV78FKeSx62n",
        "outputId": "c0552171-397e-4c1a-8de7-2d7988c9ed54"
      },
      "execution_count": 4,
      "outputs": [
        {
          "output_type": "execute_result",
          "data": {
            "text/plain": [
              "Date                    0\n",
              "Open                    0\n",
              "High                    0\n",
              "Low                     0\n",
              "Last                    0\n",
              "Close                   0\n",
              "Total Trade Quantity    0\n",
              "Turnover (Lacs)         0\n",
              "dtype: int64"
            ]
          },
          "metadata": {},
          "execution_count": 4
        }
      ]
    },
    {
      "cell_type": "code",
      "source": [
        "df2 = df.reset_index()['Close']\n",
        "plt.plot(df2)"
      ],
      "metadata": {
        "colab": {
          "base_uri": "https://localhost:8080/",
          "height": 447
        },
        "id": "dPtXZIlRl-z2",
        "outputId": "1c4341e9-16ba-4c60-cc55-df930083f7dd"
      },
      "execution_count": 5,
      "outputs": [
        {
          "output_type": "execute_result",
          "data": {
            "text/plain": [
              "[<matplotlib.lines.Line2D at 0x7f6152c1ec80>]"
            ]
          },
          "metadata": {},
          "execution_count": 5
        },
        {
          "output_type": "display_data",
          "data": {
            "text/plain": [
              "<Figure size 640x480 with 1 Axes>"
            ],
            "image/png": "[encoded data removed]"
          },
          "metadata": {}
        }
      ]
    },
    {
      "cell_type": "code",
      "source": [
        "scaler = MinMaxScaler()\n",
        "df2 = scaler.fit_transform(np.array(df2).reshape(-1,1))\n",
        "df2.shape"
      ],
      "metadata": {
        "colab": {
          "base_uri": "https://localhost:8080/"
        },
        "id": "cUzgm4ESmESE",
        "outputId": "1f37d13e-79c7-4e1f-a869-802adf1bd1ba"
      },
      "execution_count": 6,
      "outputs": [
        {
          "output_type": "execute_result",
          "data": {
            "text/plain": [
              "(2035, 1)"
            ]
          },
          "metadata": {},
          "execution_count": 6
        }
      ]
    },
    {
      "cell_type": "code",
      "source": [
        "train_size = int(len(df2)*0.65)\n",
        "test_size = len(df2) - train_size\n",
        "train_data,test_data = df2[0:train_size,:],df2[train_size:len(df2),:1]"
      ],
      "metadata": {
        "id": "nt4lgTAymHcI"
      },
      "execution_count": 7,
      "outputs": []
    },
    {
      "cell_type": "code",
      "source": [
        "def create_dataset(dataset, time_step = 1):\n",
        "    dataX,dataY = [],[]\n",
        "    for i in range(len(dataset)-time_step-1):\n",
        "                   a = dataset[i:(i+time_step),0]\n",
        "                   dataX.append(a)\n",
        "                   dataY.append(dataset[i + time_step,0])\n",
        "    return np.array(dataX),np.array(dataY)"
      ],
      "metadata": {
        "id": "HQg0oNHTmMCi"
      },
      "execution_count": 8,
      "outputs": []
    },
    {
      "cell_type": "code",
      "source": [
        "# calling the create dataset function to split the data into\n",
        "# input output datasets with time step 100\n",
        "time_step = 100\n",
        "X_train,Y_train =  create_dataset(train_data,time_step)\n",
        "X_test,Y_test =  create_dataset(test_data,time_step)"
      ],
      "metadata": {
        "id": "Spf9D7q4mOTY"
      },
      "execution_count": 11,
      "outputs": []
    },
    {
      "cell_type": "code",
      "source": [
        "# checking values\n",
        "print(X_train.shape)\n",
        "print(X_train)\n",
        "print(X_test.shape)\n",
        "print(Y_test.shape)"
      ],
      "metadata": {
        "colab": {
          "base_uri": "https://localhost:8080/"
        },
        "id": "uH1Zf0CjmQav",
        "outputId": "fa1cadf1-637c-45e0-d1c6-d90a9d3a4d99"
      },
      "execution_count": 12,
      "outputs": [
        {
          "output_type": "stream",
          "name": "stdout",
          "text": [
            "(1221, 100)\n",
            "[[0.62418301 0.62214052 0.62622549 ... 0.83455882 0.86213235 0.85273693]\n",
            " [0.62214052 0.62622549 0.63378268 ... 0.86213235 0.85273693 0.87111928]\n",
            " [0.62622549 0.63378268 0.62234477 ... 0.85273693 0.87111928 0.84497549]\n",
            " ...\n",
            " [0.34517974 0.31781046 0.33047386 ... 0.2816585  0.27001634 0.26531863]\n",
            " [0.31781046 0.33047386 0.32128268 ... 0.27001634 0.26531863 0.27389706]\n",
            " [0.33047386 0.32128268 0.34007353 ... 0.26531863 0.27389706 0.25347222]]\n",
            "(612, 100)\n",
            "(612,)\n"
          ]
        }
      ]
    },
    {
      "cell_type": "code",
      "source": [
        "model = Sequential()\n",
        "model.add(LSTM(50,return_sequences = True,input_shape = (X_train.shape[1],1)))\n",
        "model.add(LSTM(50,return_sequences = True))\n",
        "model.add(LSTM(50))\n",
        "model.add(Dense(1))\n",
        "model.compile(loss = 'mean_squared_error',optimizer = 'adam')"
      ],
      "metadata": {
        "id": "he_GpgzJmR5F"
      },
      "execution_count": 13,
      "outputs": []
    },
    {
      "cell_type": "code",
      "source": [
        "model.summary()"
      ],
      "metadata": {
        "colab": {
          "base_uri": "https://localhost:8080/"
        },
        "id": "_82AItTumVsh",
        "outputId": "71c581b8-921a-4c73-87e8-0945106e3726"
      },
      "execution_count": 14,
      "outputs": [
        {
          "output_type": "stream",
          "name": "stdout",
          "text": [
            "Model: \"sequential\"\n",
            "_________________________________________________________________\n",
            " Layer (type)                Output Shape              Param #   \n",
            "=================================================================\n",
            " lstm (LSTM)                 (None, 100, 50)           10400     \n",
            "                                                                 \n",
            " lstm_1 (LSTM)               (None, 100, 50)           20200     \n",
            "                                                                 \n",
            " lstm_2 (LSTM)               (None, 50)                20200     \n",
            "                                                                 \n",
            " dense (Dense)               (None, 1)                 51        \n",
            "                                                                 \n",
            "=================================================================\n",
            "Total params: 50,851\n",
            "Trainable params: 50,851\n",
            "Non-trainable params: 0\n",
            "_________________________________________________________________\n"
          ]
        }
      ]
    },
    {
      "cell_type": "code",
      "source": [
        "model.fit(X_train,Y_train,validation_data = (X_test,Y_test),epochs = 100,batch_size = 64,verbose = 1)"
      ],
      "metadata": {
        "colab": {
          "base_uri": "https://localhost:8080/"
        },
        "id": "XvhIqhdLmYWM",
        "outputId": "623489df-4e6c-4d42-ecc0-99493a09f393"
      },
      "execution_count": 15,
      "outputs": [
        {
          "output_type": "stream",
          "name": "stdout",
          "text": [
            "Epoch 1/100\n",
            "20/20 [==============================] - 16s 405ms/step - loss: 0.0273 - val_loss: 0.0028\n",
            "Epoch 2/100\n",
            "20/20 [==============================] - 12s 617ms/step - loss: 0.0035 - val_loss: 0.0015\n",
            "Epoch 3/100\n",
            "20/20 [==============================] - 7s 329ms/step - loss: 0.0018 - val_loss: 9.0114e-04\n",
            "Epoch 4/100\n",
            "20/20 [==============================] - 7s 369ms/step - loss: 0.0015 - val_loss: 0.0010\n",
            "Epoch 5/100\n",
            "20/20 [==============================] - 5s 236ms/step - loss: 0.0013 - val_loss: 0.0011\n",
            "Epoch 6/100\n",
            "20/20 [==============================] - 5s 240ms/step - loss: 0.0014 - val_loss: 9.4514e-04\n",
            "Epoch 7/100\n",
            "20/20 [==============================] - 7s 336ms/step - loss: 0.0013 - val_loss: 8.7184e-04\n",
            "Epoch 8/100\n",
            "20/20 [==============================] - 5s 270ms/step - loss: 0.0012 - val_loss: 0.0014\n",
            "Epoch 9/100\n",
            "20/20 [==============================] - 7s 342ms/step - loss: 0.0014 - val_loss: 9.0266e-04\n",
            "Epoch 10/100\n",
            "20/20 [==============================] - 5s 241ms/step - loss: 0.0011 - val_loss: 8.4288e-04\n",
            "Epoch 11/100\n",
            "20/20 [==============================] - 5s 277ms/step - loss: 0.0012 - val_loss: 0.0011\n",
            "Epoch 12/100\n",
            "20/20 [==============================] - 7s 369ms/step - loss: 0.0010 - val_loss: 8.9006e-04\n",
            "Epoch 13/100\n",
            "20/20 [==============================] - 5s 239ms/step - loss: 9.8167e-04 - val_loss: 0.0010\n",
            "Epoch 14/100\n",
            "20/20 [==============================] - 7s 337ms/step - loss: 0.0013 - val_loss: 9.1151e-04\n",
            "Epoch 15/100\n",
            "20/20 [==============================] - 5s 236ms/step - loss: 9.0591e-04 - val_loss: 7.9233e-04\n",
            "Epoch 16/100\n",
            "20/20 [==============================] - 5s 271ms/step - loss: 9.0206e-04 - val_loss: 8.2306e-04\n",
            "Epoch 17/100\n",
            "20/20 [==============================] - 7s 336ms/step - loss: 8.4841e-04 - val_loss: 6.1719e-04\n",
            "Epoch 18/100\n",
            "20/20 [==============================] - 5s 234ms/step - loss: 9.1548e-04 - val_loss: 9.2385e-04\n",
            "Epoch 19/100\n",
            "20/20 [==============================] - 11s 545ms/step - loss: 8.5157e-04 - val_loss: 9.1418e-04\n",
            "Epoch 20/100\n",
            "20/20 [==============================] - 5s 259ms/step - loss: 9.5226e-04 - val_loss: 9.3326e-04\n",
            "Epoch 21/100\n",
            "20/20 [==============================] - 5s 243ms/step - loss: 7.6224e-04 - val_loss: 7.0420e-04\n",
            "Epoch 22/100\n",
            "20/20 [==============================] - 7s 349ms/step - loss: 0.0011 - val_loss: 5.7354e-04\n",
            "Epoch 23/100\n",
            "20/20 [==============================] - 5s 265ms/step - loss: 8.8065e-04 - val_loss: 7.2164e-04\n",
            "Epoch 24/100\n",
            "20/20 [==============================] - 7s 348ms/step - loss: 7.3434e-04 - val_loss: 6.3651e-04\n",
            "Epoch 25/100\n",
            "20/20 [==============================] - 5s 247ms/step - loss: 6.8898e-04 - val_loss: 7.7711e-04\n",
            "Epoch 26/100\n",
            "20/20 [==============================] - 5s 268ms/step - loss: 7.1448e-04 - val_loss: 6.6016e-04\n",
            "Epoch 27/100\n",
            "20/20 [==============================] - 6s 316ms/step - loss: 6.4516e-04 - val_loss: 7.6302e-04\n",
            "Epoch 28/100\n",
            "20/20 [==============================] - 5s 235ms/step - loss: 6.5670e-04 - val_loss: 6.5017e-04\n",
            "Epoch 29/100\n",
            "20/20 [==============================] - 6s 292ms/step - loss: 7.2384e-04 - val_loss: 0.0010\n",
            "Epoch 30/100\n",
            "20/20 [==============================] - 6s 277ms/step - loss: 6.6601e-04 - val_loss: 8.8710e-04\n",
            "Epoch 31/100\n",
            "20/20 [==============================] - 5s 270ms/step - loss: 6.9477e-04 - val_loss: 9.0719e-04\n",
            "Epoch 32/100\n",
            "20/20 [==============================] - 7s 377ms/step - loss: 7.6809e-04 - val_loss: 9.2651e-04\n",
            "Epoch 33/100\n",
            "20/20 [==============================] - 5s 274ms/step - loss: 8.0131e-04 - val_loss: 0.0011\n",
            "Epoch 34/100\n",
            "20/20 [==============================] - 6s 284ms/step - loss: 6.7230e-04 - val_loss: 5.7887e-04\n",
            "Epoch 35/100\n",
            "20/20 [==============================] - 6s 321ms/step - loss: 9.2968e-04 - val_loss: 5.7973e-04\n",
            "Epoch 36/100\n",
            "20/20 [==============================] - 5s 239ms/step - loss: 5.6741e-04 - val_loss: 6.5597e-04\n",
            "Epoch 37/100\n",
            "20/20 [==============================] - 7s 371ms/step - loss: 5.8123e-04 - val_loss: 0.0011\n",
            "Epoch 38/100\n",
            "20/20 [==============================] - 5s 273ms/step - loss: 7.6037e-04 - val_loss: 7.5507e-04\n",
            "Epoch 39/100\n",
            "20/20 [==============================] - 6s 287ms/step - loss: 5.5793e-04 - val_loss: 5.6654e-04\n",
            "Epoch 40/100\n",
            "20/20 [==============================] - 6s 287ms/step - loss: 5.4575e-04 - val_loss: 4.9246e-04\n",
            "Epoch 41/100\n",
            "20/20 [==============================] - 5s 234ms/step - loss: 5.4661e-04 - val_loss: 4.8456e-04\n",
            "Epoch 42/100\n",
            "20/20 [==============================] - 7s 335ms/step - loss: 5.4248e-04 - val_loss: 6.6059e-04\n",
            "Epoch 43/100\n",
            "20/20 [==============================] - 5s 236ms/step - loss: 5.2793e-04 - val_loss: 5.2887e-04\n",
            "Epoch 44/100\n",
            "20/20 [==============================] - 5s 228ms/step - loss: 5.1417e-04 - val_loss: 4.5199e-04\n",
            "Epoch 45/100\n",
            "20/20 [==============================] - 7s 342ms/step - loss: 5.0566e-04 - val_loss: 5.0281e-04\n",
            "Epoch 46/100\n",
            "20/20 [==============================] - 5s 234ms/step - loss: 4.9380e-04 - val_loss: 4.6626e-04\n",
            "Epoch 47/100\n",
            "20/20 [==============================] - 8s 399ms/step - loss: 5.0527e-04 - val_loss: 4.4483e-04\n",
            "Epoch 48/100\n",
            "20/20 [==============================] - 6s 303ms/step - loss: 4.6900e-04 - val_loss: 4.3108e-04\n",
            "Epoch 49/100\n",
            "20/20 [==============================] - 5s 270ms/step - loss: 4.6744e-04 - val_loss: 3.8786e-04\n",
            "Epoch 50/100\n",
            "20/20 [==============================] - 7s 375ms/step - loss: 4.6797e-04 - val_loss: 4.3566e-04\n",
            "Epoch 51/100\n",
            "20/20 [==============================] - 5s 267ms/step - loss: 5.0488e-04 - val_loss: 5.1811e-04\n",
            "Epoch 52/100\n",
            "20/20 [==============================] - 6s 310ms/step - loss: 4.4804e-04 - val_loss: 7.5954e-04\n",
            "Epoch 53/100\n",
            "20/20 [==============================] - 6s 288ms/step - loss: 5.5458e-04 - val_loss: 4.0042e-04\n",
            "Epoch 54/100\n",
            "20/20 [==============================] - 5s 271ms/step - loss: 5.7701e-04 - val_loss: 4.1888e-04\n",
            "Epoch 55/100\n",
            "20/20 [==============================] - 7s 364ms/step - loss: 4.3279e-04 - val_loss: 4.8011e-04\n",
            "Epoch 56/100\n",
            "20/20 [==============================] - 5s 239ms/step - loss: 4.3499e-04 - val_loss: 4.1521e-04\n",
            "Epoch 57/100\n",
            "20/20 [==============================] - 6s 319ms/step - loss: 4.1459e-04 - val_loss: 4.3626e-04\n",
            "Epoch 58/100\n",
            "20/20 [==============================] - 6s 291ms/step - loss: 4.1667e-04 - val_loss: 3.5140e-04\n",
            "Epoch 59/100\n",
            "20/20 [==============================] - 5s 235ms/step - loss: 3.8813e-04 - val_loss: 3.3137e-04\n",
            "Epoch 60/100\n",
            "20/20 [==============================] - 7s 348ms/step - loss: 5.6217e-04 - val_loss: 3.6818e-04\n",
            "Epoch 61/100\n",
            "20/20 [==============================] - 5s 273ms/step - loss: 4.3979e-04 - val_loss: 4.6701e-04\n",
            "Epoch 62/100\n",
            "20/20 [==============================] - 6s 294ms/step - loss: 4.2882e-04 - val_loss: 4.5715e-04\n",
            "Epoch 63/100\n",
            "20/20 [==============================] - 6s 273ms/step - loss: 4.0101e-04 - val_loss: 4.2088e-04\n",
            "Epoch 64/100\n",
            "20/20 [==============================] - 5s 250ms/step - loss: 3.7524e-04 - val_loss: 4.3498e-04\n",
            "Epoch 65/100\n",
            "20/20 [==============================] - 8s 386ms/step - loss: 3.4693e-04 - val_loss: 3.4644e-04\n",
            "Epoch 66/100\n",
            "20/20 [==============================] - 5s 244ms/step - loss: 5.5876e-04 - val_loss: 3.0272e-04\n",
            "Epoch 67/100\n",
            "20/20 [==============================] - 6s 287ms/step - loss: 3.5619e-04 - val_loss: 4.0904e-04\n",
            "Epoch 68/100\n",
            "20/20 [==============================] - 7s 323ms/step - loss: 3.4071e-04 - val_loss: 3.5072e-04\n",
            "Epoch 69/100\n",
            "20/20 [==============================] - 5s 243ms/step - loss: 3.2433e-04 - val_loss: 3.4275e-04\n",
            "Epoch 70/100\n",
            "20/20 [==============================] - 7s 371ms/step - loss: 3.1260e-04 - val_loss: 3.1837e-04\n",
            "Epoch 71/100\n",
            "20/20 [==============================] - 5s 277ms/step - loss: 3.0847e-04 - val_loss: 2.9556e-04\n",
            "Epoch 72/100\n",
            "20/20 [==============================] - 6s 279ms/step - loss: 3.2145e-04 - val_loss: 2.9995e-04\n",
            "Epoch 73/100\n",
            "20/20 [==============================] - 6s 289ms/step - loss: 3.3408e-04 - val_loss: 3.1174e-04\n",
            "Epoch 74/100\n",
            "20/20 [==============================] - 8s 386ms/step - loss: 2.8574e-04 - val_loss: 2.8292e-04\n",
            "Epoch 75/100\n",
            "20/20 [==============================] - 7s 340ms/step - loss: 2.9562e-04 - val_loss: 4.2296e-04\n",
            "Epoch 76/100\n",
            "20/20 [==============================] - 5s 272ms/step - loss: 4.4622e-04 - val_loss: 2.3766e-04\n",
            "Epoch 77/100\n",
            "20/20 [==============================] - 7s 369ms/step - loss: 3.0978e-04 - val_loss: 3.1578e-04\n",
            "Epoch 78/100\n",
            "20/20 [==============================] - 5s 270ms/step - loss: 2.7765e-04 - val_loss: 3.3419e-04\n",
            "Epoch 79/100\n",
            "20/20 [==============================] - 5s 278ms/step - loss: 3.1719e-04 - val_loss: 2.6585e-04\n",
            "Epoch 80/100\n",
            "20/20 [==============================] - 6s 291ms/step - loss: 2.8908e-04 - val_loss: 2.9025e-04\n",
            "Epoch 81/100\n",
            "20/20 [==============================] - 5s 239ms/step - loss: 2.6278e-04 - val_loss: 2.7070e-04\n",
            "Epoch 82/100\n",
            "20/20 [==============================] - 7s 338ms/step - loss: 2.6871e-04 - val_loss: 2.3724e-04\n",
            "Epoch 83/100\n",
            "20/20 [==============================] - 5s 234ms/step - loss: 2.5259e-04 - val_loss: 2.1588e-04\n",
            "Epoch 84/100\n",
            "20/20 [==============================] - 5s 272ms/step - loss: 2.5732e-04 - val_loss: 2.6483e-04\n",
            "Epoch 85/100\n",
            "20/20 [==============================] - 7s 335ms/step - loss: 2.6499e-04 - val_loss: 4.5551e-04\n",
            "Epoch 86/100\n",
            "20/20 [==============================] - 5s 236ms/step - loss: 3.1923e-04 - val_loss: 2.3012e-04\n",
            "Epoch 87/100\n",
            "20/20 [==============================] - 5s 262ms/step - loss: 3.2498e-04 - val_loss: 3.5644e-04\n",
            "Epoch 88/100\n",
            "20/20 [==============================] - 6s 297ms/step - loss: 2.6683e-04 - val_loss: 2.1752e-04\n",
            "Epoch 89/100\n",
            "20/20 [==============================] - 5s 241ms/step - loss: 2.5696e-04 - val_loss: 2.1288e-04\n",
            "Epoch 90/100\n",
            "20/20 [==============================] - 7s 334ms/step - loss: 2.7084e-04 - val_loss: 3.1538e-04\n",
            "Epoch 91/100\n",
            "20/20 [==============================] - 5s 241ms/step - loss: 2.6283e-04 - val_loss: 3.4636e-04\n",
            "Epoch 92/100\n",
            "20/20 [==============================] - 5s 241ms/step - loss: 2.3970e-04 - val_loss: 2.2424e-04\n",
            "Epoch 93/100\n",
            "20/20 [==============================] - 7s 342ms/step - loss: 2.7096e-04 - val_loss: 1.9783e-04\n",
            "Epoch 94/100\n",
            "20/20 [==============================] - 5s 238ms/step - loss: 2.2437e-04 - val_loss: 2.1129e-04\n",
            "Epoch 95/100\n",
            "20/20 [==============================] - 5s 250ms/step - loss: 2.1943e-04 - val_loss: 2.4060e-04\n",
            "Epoch 96/100\n",
            "20/20 [==============================] - 7s 355ms/step - loss: 2.2718e-04 - val_loss: 2.0449e-04\n",
            "Epoch 97/100\n",
            "20/20 [==============================] - 5s 244ms/step - loss: 2.2939e-04 - val_loss: 1.7658e-04\n",
            "Epoch 98/100\n",
            "20/20 [==============================] - 7s 346ms/step - loss: 2.3630e-04 - val_loss: 1.9587e-04\n",
            "Epoch 99/100\n",
            "20/20 [==============================] - 5s 241ms/step - loss: 2.3110e-04 - val_loss: 2.5291e-04\n",
            "Epoch 100/100\n",
            "20/20 [==============================] - 6s 283ms/step - loss: 2.2025e-04 - val_loss: 1.7536e-04\n"
          ]
        },
        {
          "output_type": "execute_result",
          "data": {
            "text/plain": [
              "<keras.callbacks.History at 0x7f614967af80>"
            ]
          },
          "metadata": {},
          "execution_count": 15
        }
      ]
    },
    {
      "cell_type": "code",
      "source": [
        "train_predict = model.predict(X_train)\n",
        "test_predict = model.predict(X_test)"
      ],
      "metadata": {
        "colab": {
          "base_uri": "https://localhost:8080/"
        },
        "id": "6udFbbWomb2t",
        "outputId": "77c7ea26-de05-4841-9d12-5a6a2b2b9400"
      },
      "execution_count": 16,
      "outputs": [
        {
          "output_type": "stream",
          "name": "stdout",
          "text": [
            "39/39 [==============================] - 3s 50ms/step\n",
            "20/20 [==============================] - 1s 47ms/step\n"
          ]
        }
      ]
    },
    {
      "cell_type": "code",
      "source": [
        "\n",
        "y_predict = model.predict(X_test)"
      ],
      "metadata": {
        "colab": {
          "base_uri": "https://localhost:8080/"
        },
        "id": "CxpNcCFTmyd6",
        "outputId": "0383b2ed-8ea3-4dee-9db6-f8e862f0daf2"
      },
      "execution_count": 17,
      "outputs": [
        {
          "output_type": "stream",
          "name": "stdout",
          "text": [
            "20/20 [==============================] - 1s 68ms/step\n"
          ]
        }
      ]
    },
    {
      "cell_type": "code",
      "source": [
        "# transform to original form\n",
        "train_predict = scaler.inverse_transform(train_predict)\n",
        "test_predict = scaler.inverse_transform(test_predict)"
      ],
      "metadata": {
        "id": "ktxLneS-m6Gf"
      },
      "execution_count": 18,
      "outputs": []
    },
    {
      "cell_type": "code",
      "source": [
        "print(math.sqrt(mean_squared_error(Y_train,train_predict)))\n",
        "print(math.sqrt(mean_squared_error(Y_test,test_predict)))"
      ],
      "metadata": {
        "colab": {
          "base_uri": "https://localhost:8080/"
        },
        "id": "I3bA7Stmm9f6",
        "outputId": "b88b8aca-148a-4de0-9a5b-72c754d9d50c"
      },
      "execution_count": 19,
      "outputs": [
        {
          "output_type": "stream",
          "name": "stdout",
          "text": [
            "164.36219416875687\n",
            "114.9092021035927\n"
          ]
        }
      ]
    },
    {
      "cell_type": "code",
      "source": [
        "look_back = 100"
      ],
      "metadata": {
        "id": "asqBy3VCnAgi"
      },
      "execution_count": 20,
      "outputs": []
    },
    {
      "cell_type": "code",
      "source": [
        "trainPredictPlot = np.empty_like(df2)\n",
        "trainPredictPlot[:,:] = np.nan\n",
        "trainPredictPlot[look_back : len(train_predict)+look_back,:] = train_predict"
      ],
      "metadata": {
        "id": "z6-sc9rZnT6B"
      },
      "execution_count": 21,
      "outputs": []
    },
    {
      "cell_type": "code",
      "source": [
        "testPredictPlot = np.empty_like(df2)\n",
        "testPredictPlot[:,:] = np.nan\n",
        "testPredictPlot[len(train_predict)+(look_back)*2 + 1 : len(df2) - 1,:] = test_predict"
      ],
      "metadata": {
        "id": "xtZCB7TAnV2V"
      },
      "execution_count": 22,
      "outputs": []
    },
    {
      "cell_type": "code",
      "source": [
        "plt.plot(scaler.inverse_transform(df2))\n",
        "plt.plot(trainPredictPlot)\n",
        "plt.plot(testPredictPlot)\n",
        "plt.show()"
      ],
      "metadata": {
        "colab": {
          "base_uri": "https://localhost:8080/",
          "height": 430
        },
        "id": "VYuIhOYMnX2k",
        "outputId": "658ed300-d214-4c5c-fc9d-9f95d7729f2d"
      },
      "execution_count": 23,
      "outputs": [
        {
          "output_type": "display_data",
          "data": {
            "text/plain": [
              "<Figure size 640x480 with 1 Axes>"
            ],
            "image/png": "[encoded data removed]"
          },
          "metadata": {}
        }
      ]
    },
    {
      "cell_type": "code",
      "source": [
        "from sklearn.metrics import r2_score"
      ],
      "metadata": {
        "id": "LLjR7jcCnZde"
      },
      "execution_count": 24,
      "outputs": []
    },
    {
      "cell_type": "code",
      "source": [
        "r2_score(Y_test,y_predict)"
      ],
      "metadata": {
        "colab": {
          "base_uri": "https://localhost:8080/"
        },
        "id": "4Wckh-Xpnmp5",
        "outputId": "58a00b97-7820-421e-bb0f-39d21dad8e5a"
      },
      "execution_count": 25,
      "outputs": [
        {
          "output_type": "execute_result",
          "data": {
            "text/plain": [
              "0.9767015280182215"
            ]
          },
          "metadata": {},
          "execution_count": 25
        }
      ]
    }
  ]
}